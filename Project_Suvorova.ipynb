{
 "cells": [
  {
   "cell_type": "code",
   "execution_count": 333,
   "metadata": {},
   "outputs": [],
   "source": [
    "# импорт библиотек\n",
    "import pandas as pd\n",
    "import numpy as np\n",
    "import matplotlib.pyplot as plt\n",
    "import plotly.express as px\n",
    "import seaborn as sns\n",
    "import statsmodels.formula.api as smf\n",
    "import datetime\n",
    "import requests\n",
    "import io\n",
    "\n",
    "%matplotlib inline\n",
    "sns.set(\n",
    "    font_scale=1,\n",
    "    rc={'figure.figsize': (19, 9)})"
   ]
  },
  {
   "cell_type": "markdown",
   "metadata": {},
   "source": [
    "### Задание 1"
   ]
  },
  {
   "cell_type": "markdown",
   "metadata": {},
   "source": [
    "_id_ – означает покупку (в одну покупку входят все товары, купленные пользователем во время 1 похода в магазин)\n",
    "<br>\n",
    "_Товар_ – наименование товара\n",
    "<br>\n",
    "_Количество_ – число единиц купленного товара"
   ]
  },
  {
   "cell_type": "markdown",
   "metadata": {},
   "source": [
    "Воспользуйтесь этими данными и выясните, какие пары товаров пользователи чаще всего покупают вместе.\n",
    "<br>\n",
    "По сути, вам необходимо найти паттерны покупок, что позволит оптимизировать размещение продуктов в магазине,\n",
    "<br>\n",
    "для удобства пользователей и увеличения выручки."
   ]
  },
  {
   "cell_type": "code",
   "execution_count": 334,
   "metadata": {},
   "outputs": [],
   "source": [
    "url = \"https://raw.githubusercontent.com/oksana-suvorova/my-projects/main/test1_completed.csv\" \n",
    "# ссылка на файл с исходными данными на гитхабе\n",
    "download = requests.get(url).content\n",
    "data = pd.read_csv(io.StringIO(download.decode('utf-8')))"
   ]
  },
  {
   "cell_type": "code",
   "execution_count": 335,
   "metadata": {},
   "outputs": [
    {
     "data": {
      "text/html": [
       "<div>\n",
       "<style scoped>\n",
       "    .dataframe tbody tr th:only-of-type {\n",
       "        vertical-align: middle;\n",
       "    }\n",
       "\n",
       "    .dataframe tbody tr th {\n",
       "        vertical-align: top;\n",
       "    }\n",
       "\n",
       "    .dataframe thead th {\n",
       "        text-align: right;\n",
       "    }\n",
       "</style>\n",
       "<table border=\"1\" class=\"dataframe\">\n",
       "  <thead>\n",
       "    <tr style=\"text-align: right;\">\n",
       "      <th></th>\n",
       "      <th>id</th>\n",
       "      <th>Товар</th>\n",
       "      <th>Количество</th>\n",
       "    </tr>\n",
       "  </thead>\n",
       "  <tbody>\n",
       "    <tr>\n",
       "      <td>0</td>\n",
       "      <td>17119</td>\n",
       "      <td>Лимон</td>\n",
       "      <td>1.1</td>\n",
       "    </tr>\n",
       "    <tr>\n",
       "      <td>1</td>\n",
       "      <td>17119</td>\n",
       "      <td>Лимон оранжевый</td>\n",
       "      <td>0.7</td>\n",
       "    </tr>\n",
       "    <tr>\n",
       "      <td>2</td>\n",
       "      <td>17119</td>\n",
       "      <td>Лук-порей</td>\n",
       "      <td>10.0</td>\n",
       "    </tr>\n",
       "    <tr>\n",
       "      <td>3</td>\n",
       "      <td>17119</td>\n",
       "      <td>Лук репчатый</td>\n",
       "      <td>2.5</td>\n",
       "    </tr>\n",
       "    <tr>\n",
       "      <td>4</td>\n",
       "      <td>17119</td>\n",
       "      <td>Малина свежая</td>\n",
       "      <td>1.0</td>\n",
       "    </tr>\n",
       "  </tbody>\n",
       "</table>\n",
       "</div>"
      ],
      "text/plain": [
       "      id            Товар  Количество\n",
       "0  17119            Лимон         1.1\n",
       "1  17119  Лимон оранжевый         0.7\n",
       "2  17119        Лук-порей        10.0\n",
       "3  17119     Лук репчатый         2.5\n",
       "4  17119    Малина свежая         1.0"
      ]
     },
     "execution_count": 335,
     "metadata": {},
     "output_type": "execute_result"
    }
   ],
   "source": [
    "data.head(5)"
   ]
  },
  {
   "cell_type": "code",
   "execution_count": 336,
   "metadata": {},
   "outputs": [
    {
     "data": {
      "text/plain": [
       "id              int64\n",
       "Товар          object\n",
       "Количество    float64\n",
       "dtype: object"
      ]
     },
     "execution_count": 336,
     "metadata": {},
     "output_type": "execute_result"
    }
   ],
   "source": [
    "data.dtypes"
   ]
  },
  {
   "cell_type": "code",
   "execution_count": 337,
   "metadata": {},
   "outputs": [
    {
     "data": {
      "text/plain": [
       "id            0\n",
       "Товар         0\n",
       "Количество    0\n",
       "dtype: int64"
      ]
     },
     "execution_count": 337,
     "metadata": {},
     "output_type": "execute_result"
    }
   ],
   "source": [
    "data.isna().sum()\n",
    "# пропущенных значений в таблице нет"
   ]
  },
  {
   "cell_type": "code",
   "execution_count": 338,
   "metadata": {},
   "outputs": [],
   "source": [
    "data.id = data.id.astype(str)\n",
    "# смена типа данных необходима для того, чтобы сделать в дальнейшем сцепки"
   ]
  },
  {
   "cell_type": "code",
   "execution_count": 339,
   "metadata": {},
   "outputs": [],
   "source": [
    "# мержим таблицу сама с собой для того, чтобы получить пары товаров в корзине\n",
    "# применяем левое соединение, чтобы создать всевозможные пары в корзине потребителя (однако будут повторы в таблице)\n",
    "goods = data.merge(data, how='left', on='id')"
   ]
  },
  {
   "cell_type": "code",
   "execution_count": 340,
   "metadata": {},
   "outputs": [],
   "source": [
    "goods = goods[['id', 'Товар_x', 'Товар_y']]"
   ]
  },
  {
   "cell_type": "code",
   "execution_count": 341,
   "metadata": {},
   "outputs": [],
   "source": [
    "# создаем ключи из id_x_y и id_y_x \n",
    "# это необходимо для поиска повторяющихся строк при комбинации корзины с той же самой корзиной\n",
    "# например, 17119_Лимон_Лимон оранжевый и 17119_Лимон оранжевый_Лимон - это одна и та же пара, ее нужно будет удалить\n",
    "# чтобы пары товаров не задвоились (это может привести к ошибке при подсчете пар)\n",
    "goods['id_x_y'] = goods.id + '_' + goods.Товар_x + '_' + goods.Товар_y\n",
    "goods['id_y_x'] = goods.id + '_' + goods.Товар_y + '_' + goods.Товар_x"
   ]
  },
  {
   "cell_type": "code",
   "execution_count": 342,
   "metadata": {},
   "outputs": [],
   "source": [
    "# сортируем данные по id,Товар_x,Товар_y по возрастанию (для корректной работы функции)\n",
    "goods = goods.sort_values(['id', 'Товар_x', 'Товар_y'])"
   ]
  },
  {
   "cell_type": "code",
   "execution_count": 343,
   "metadata": {},
   "outputs": [
    {
     "data": {
      "text/html": [
       "<div>\n",
       "<style scoped>\n",
       "    .dataframe tbody tr th:only-of-type {\n",
       "        vertical-align: middle;\n",
       "    }\n",
       "\n",
       "    .dataframe tbody tr th {\n",
       "        vertical-align: top;\n",
       "    }\n",
       "\n",
       "    .dataframe thead th {\n",
       "        text-align: right;\n",
       "    }\n",
       "</style>\n",
       "<table border=\"1\" class=\"dataframe\">\n",
       "  <thead>\n",
       "    <tr style=\"text-align: right;\">\n",
       "      <th></th>\n",
       "      <th>id</th>\n",
       "      <th>Товар_x</th>\n",
       "      <th>Товар_y</th>\n",
       "      <th>id_x_y</th>\n",
       "      <th>id_y_x</th>\n",
       "    </tr>\n",
       "  </thead>\n",
       "  <tbody>\n",
       "    <tr>\n",
       "      <td>663100</td>\n",
       "      <td>100029</td>\n",
       "      <td>Кунжут белый</td>\n",
       "      <td>Кунжут белый</td>\n",
       "      <td>100029_Кунжут белый_Кунжут белый</td>\n",
       "      <td>100029_Кунжут белый_Кунжут белый</td>\n",
       "    </tr>\n",
       "    <tr>\n",
       "      <td>663098</td>\n",
       "      <td>100029</td>\n",
       "      <td>Кунжут белый</td>\n",
       "      <td>Пастернак корень</td>\n",
       "      <td>100029_Кунжут белый_Пастернак корень</td>\n",
       "      <td>100029_Пастернак корень_Кунжут белый</td>\n",
       "    </tr>\n",
       "    <tr>\n",
       "      <td>663099</td>\n",
       "      <td>100029</td>\n",
       "      <td>Кунжут белый</td>\n",
       "      <td>Сахар-песок, 5кг</td>\n",
       "      <td>100029_Кунжут белый_Сахар-песок, 5кг</td>\n",
       "      <td>100029_Сахар-песок, 5кг_Кунжут белый</td>\n",
       "    </tr>\n",
       "    <tr>\n",
       "      <td>663101</td>\n",
       "      <td>100029</td>\n",
       "      <td>Кунжут белый</td>\n",
       "      <td>Черника свежая</td>\n",
       "      <td>100029_Кунжут белый_Черника свежая</td>\n",
       "      <td>100029_Черника свежая_Кунжут белый</td>\n",
       "    </tr>\n",
       "    <tr>\n",
       "      <td>663092</td>\n",
       "      <td>100029</td>\n",
       "      <td>Пастернак корень</td>\n",
       "      <td>Кунжут белый</td>\n",
       "      <td>100029_Пастернак корень_Кунжут белый</td>\n",
       "      <td>100029_Кунжут белый_Пастернак корень</td>\n",
       "    </tr>\n",
       "  </tbody>\n",
       "</table>\n",
       "</div>"
      ],
      "text/plain": [
       "            id           Товар_x           Товар_y  \\\n",
       "663100  100029      Кунжут белый      Кунжут белый   \n",
       "663098  100029      Кунжут белый  Пастернак корень   \n",
       "663099  100029      Кунжут белый  Сахар-песок, 5кг   \n",
       "663101  100029      Кунжут белый    Черника свежая   \n",
       "663092  100029  Пастернак корень      Кунжут белый   \n",
       "\n",
       "                                      id_x_y  \\\n",
       "663100      100029_Кунжут белый_Кунжут белый   \n",
       "663098  100029_Кунжут белый_Пастернак корень   \n",
       "663099  100029_Кунжут белый_Сахар-песок, 5кг   \n",
       "663101    100029_Кунжут белый_Черника свежая   \n",
       "663092  100029_Пастернак корень_Кунжут белый   \n",
       "\n",
       "                                      id_y_x  \n",
       "663100      100029_Кунжут белый_Кунжут белый  \n",
       "663098  100029_Пастернак корень_Кунжут белый  \n",
       "663099  100029_Сахар-песок, 5кг_Кунжут белый  \n",
       "663101    100029_Черника свежая_Кунжут белый  \n",
       "663092  100029_Кунжут белый_Пастернак корень  "
      ]
     },
     "execution_count": 343,
     "metadata": {},
     "output_type": "execute_result"
    }
   ],
   "source": [
    "goods.head(5)"
   ]
  },
  {
   "cell_type": "code",
   "execution_count": 344,
   "metadata": {},
   "outputs": [],
   "source": [
    "# создаем функцию, которая будет просматривать сцепку id_y_x и искать такое же значение в столбце со сцепкой id_x_у, \n",
    "# таким образом мы поставим True на те строки, где товар или повторяется (например, Лимон Лимон), или на те строки, где \n",
    "# товары уже встречались в строках раньше, но были поменяны местами \n",
    "# (например, Лимон Лимон оранжевый и Лимон оранжевый Лимон)\n",
    "def repeat(id, x_y, y_x):\n",
    "    repeats = []  # новый список, в него будем класть True и False\n",
    "    m = pd.Series(id.value_counts()).reset_index().sort_values('index')\n",
    "    # создание таблицы с id покупки и кол-вом строк с этим id в таблице\n",
    "    s = 0\n",
    "    ss = 0\n",
    "    for j in range(0, len(m)):  # идем по id\n",
    "        for i in range(ss, ss + m.id[j]):  # идем по столбцу у_x конкретного id\n",
    "            repeats.append(y_x.iloc[i] in x_y.iloc[ss:i + 1].tolist())\n",
    "            # если элемент из столбца y_x есть в кусочке столбца x_y с начала и до строки i, то в repeats добавляем true, \n",
    "            # иначе false\n",
    "            s = s + 1\n",
    "        ss = s\n",
    "    return repeats"
   ]
  },
  {
   "cell_type": "code",
   "execution_count": 345,
   "metadata": {},
   "outputs": [],
   "source": [
    "goods['repeats'] = repeat(goods['id'], goods['id_x_y'], goods['id_y_x'])"
   ]
  },
  {
   "cell_type": "code",
   "execution_count": 346,
   "metadata": {
    "scrolled": true
   },
   "outputs": [],
   "source": [
    "patt = goods.query('repeats == False'). \\\n",
    "             groupby(['Товар_x', 'Товар_y']). \\\n",
    "             agg({'id': 'count'}). \\\n",
    "             sort_values('id', ascending=False). \\\n",
    "             head(5)\n",
    "# паттерны покупок"
   ]
  },
  {
   "cell_type": "code",
   "execution_count": 347,
   "metadata": {},
   "outputs": [
    {
     "data": {
      "text/html": [
       "<div>\n",
       "<style scoped>\n",
       "    .dataframe tbody tr th:only-of-type {\n",
       "        vertical-align: middle;\n",
       "    }\n",
       "\n",
       "    .dataframe tbody tr th {\n",
       "        vertical-align: top;\n",
       "    }\n",
       "\n",
       "    .dataframe thead th {\n",
       "        text-align: right;\n",
       "    }\n",
       "</style>\n",
       "<table border=\"1\" class=\"dataframe\">\n",
       "  <thead>\n",
       "    <tr style=\"text-align: right;\">\n",
       "      <th></th>\n",
       "      <th></th>\n",
       "      <th>id</th>\n",
       "    </tr>\n",
       "    <tr>\n",
       "      <th>Товар_x</th>\n",
       "      <th>Товар_y</th>\n",
       "      <th></th>\n",
       "    </tr>\n",
       "  </thead>\n",
       "  <tbody>\n",
       "    <tr>\n",
       "      <td>Огурцы Луховицкие</td>\n",
       "      <td>Укроп</td>\n",
       "      <td>431</td>\n",
       "    </tr>\n",
       "    <tr>\n",
       "      <td>Петрушка</td>\n",
       "      <td>Укроп</td>\n",
       "      <td>408</td>\n",
       "    </tr>\n",
       "    <tr>\n",
       "      <td>Арбуз</td>\n",
       "      <td>Огурцы Луховицкие</td>\n",
       "      <td>345</td>\n",
       "    </tr>\n",
       "    <tr>\n",
       "      <td>Кабачки</td>\n",
       "      <td>Огурцы Луховицкие</td>\n",
       "      <td>326</td>\n",
       "    </tr>\n",
       "    <tr>\n",
       "      <td>Кинза</td>\n",
       "      <td>Укроп</td>\n",
       "      <td>303</td>\n",
       "    </tr>\n",
       "  </tbody>\n",
       "</table>\n",
       "</div>"
      ],
      "text/plain": [
       "                                      id\n",
       "Товар_x           Товар_y               \n",
       "Огурцы Луховицкие Укроп              431\n",
       "Петрушка          Укроп              408\n",
       "Арбуз             Огурцы Луховицкие  345\n",
       "Кабачки           Огурцы Луховицкие  326\n",
       "Кинза             Укроп              303"
      ]
     },
     "execution_count": 347,
     "metadata": {},
     "output_type": "execute_result"
    }
   ],
   "source": [
    "patt \n",
    "# пары товаров, которые пользователи чаще всего покупают вместе"
   ]
  },
  {
   "cell_type": "code",
   "execution_count": 348,
   "metadata": {},
   "outputs": [],
   "source": [
    "# Таким образом, неоходимо разместить товары:\n",
    "# Огурцы Луховицкие - Укроп\n",
    "# Петрушка - Укроп\n",
    "# Арбуз - Огурцы Луховицкие\n",
    "# Кабачки - Огурцы Луховицкие\n",
    "# Кинза - Укроп\n",
    "# рядом дург с другом для удобства пользователей и увеличения выручки."
   ]
  },
  {
   "cell_type": "code",
   "execution_count": null,
   "metadata": {},
   "outputs": [],
   "source": []
  },
  {
   "cell_type": "code",
   "execution_count": 349,
   "metadata": {},
   "outputs": [],
   "source": [
    "# Также привожу решение данной задачи более легким способом, также таким образом проверим решение, полученное выше"
   ]
  },
  {
   "cell_type": "code",
   "execution_count": 350,
   "metadata": {},
   "outputs": [],
   "source": [
    "# мержим таблицу сама с собой для того, чтобы получить пары товаров в корзине\n",
    "# применяем левое соединение, чтобы создать всевозможные пары в корзине потребителя (однако будут повторы в таблице)\n",
    "goods_2 = data.merge(data, how='left', on='id')"
   ]
  },
  {
   "cell_type": "code",
   "execution_count": 351,
   "metadata": {},
   "outputs": [],
   "source": [
    "goods_2 = goods_2[['id', 'Товар_x', 'Товар_y']]"
   ]
  },
  {
   "cell_type": "code",
   "execution_count": 352,
   "metadata": {},
   "outputs": [],
   "source": [
    "goods_2['col'] = goods_2.Товар_x < goods_2.Товар_y"
   ]
  },
  {
   "cell_type": "code",
   "execution_count": 353,
   "metadata": {},
   "outputs": [
    {
     "data": {
      "text/html": [
       "<div>\n",
       "<style scoped>\n",
       "    .dataframe tbody tr th:only-of-type {\n",
       "        vertical-align: middle;\n",
       "    }\n",
       "\n",
       "    .dataframe tbody tr th {\n",
       "        vertical-align: top;\n",
       "    }\n",
       "\n",
       "    .dataframe thead th {\n",
       "        text-align: right;\n",
       "    }\n",
       "</style>\n",
       "<table border=\"1\" class=\"dataframe\">\n",
       "  <thead>\n",
       "    <tr style=\"text-align: right;\">\n",
       "      <th></th>\n",
       "      <th>id</th>\n",
       "      <th>Товар_x</th>\n",
       "      <th>Товар_y</th>\n",
       "      <th>col</th>\n",
       "    </tr>\n",
       "  </thead>\n",
       "  <tbody>\n",
       "    <tr>\n",
       "      <td>0</td>\n",
       "      <td>17119</td>\n",
       "      <td>Лимон</td>\n",
       "      <td>Лимон</td>\n",
       "      <td>False</td>\n",
       "    </tr>\n",
       "    <tr>\n",
       "      <td>1</td>\n",
       "      <td>17119</td>\n",
       "      <td>Лимон</td>\n",
       "      <td>Лимон оранжевый</td>\n",
       "      <td>True</td>\n",
       "    </tr>\n",
       "    <tr>\n",
       "      <td>2</td>\n",
       "      <td>17119</td>\n",
       "      <td>Лимон</td>\n",
       "      <td>Лук-порей</td>\n",
       "      <td>True</td>\n",
       "    </tr>\n",
       "    <tr>\n",
       "      <td>3</td>\n",
       "      <td>17119</td>\n",
       "      <td>Лимон</td>\n",
       "      <td>Лук репчатый</td>\n",
       "      <td>True</td>\n",
       "    </tr>\n",
       "    <tr>\n",
       "      <td>4</td>\n",
       "      <td>17119</td>\n",
       "      <td>Лимон</td>\n",
       "      <td>Малина свежая</td>\n",
       "      <td>True</td>\n",
       "    </tr>\n",
       "  </tbody>\n",
       "</table>\n",
       "</div>"
      ],
      "text/plain": [
       "      id Товар_x          Товар_y    col\n",
       "0  17119   Лимон            Лимон  False\n",
       "1  17119   Лимон  Лимон оранжевый   True\n",
       "2  17119   Лимон        Лук-порей   True\n",
       "3  17119   Лимон     Лук репчатый   True\n",
       "4  17119   Лимон    Малина свежая   True"
      ]
     },
     "execution_count": 353,
     "metadata": {},
     "output_type": "execute_result"
    }
   ],
   "source": [
    "goods_2.head(5)"
   ]
  },
  {
   "cell_type": "code",
   "execution_count": 354,
   "metadata": {},
   "outputs": [],
   "source": [
    "patt = goods_2.query('col == True'). \\\n",
    "             groupby(['Товар_x', 'Товар_y']). \\\n",
    "             agg({'id': 'count'}). \\\n",
    "             sort_values('id', ascending=False). \\\n",
    "             head(5)\n",
    "# паттерны покупок"
   ]
  },
  {
   "cell_type": "code",
   "execution_count": 355,
   "metadata": {},
   "outputs": [
    {
     "data": {
      "text/html": [
       "<div>\n",
       "<style scoped>\n",
       "    .dataframe tbody tr th:only-of-type {\n",
       "        vertical-align: middle;\n",
       "    }\n",
       "\n",
       "    .dataframe tbody tr th {\n",
       "        vertical-align: top;\n",
       "    }\n",
       "\n",
       "    .dataframe thead th {\n",
       "        text-align: right;\n",
       "    }\n",
       "</style>\n",
       "<table border=\"1\" class=\"dataframe\">\n",
       "  <thead>\n",
       "    <tr style=\"text-align: right;\">\n",
       "      <th></th>\n",
       "      <th></th>\n",
       "      <th>id</th>\n",
       "    </tr>\n",
       "    <tr>\n",
       "      <th>Товар_x</th>\n",
       "      <th>Товар_y</th>\n",
       "      <th></th>\n",
       "    </tr>\n",
       "  </thead>\n",
       "  <tbody>\n",
       "    <tr>\n",
       "      <td>Огурцы Луховицкие</td>\n",
       "      <td>Укроп</td>\n",
       "      <td>431</td>\n",
       "    </tr>\n",
       "    <tr>\n",
       "      <td>Петрушка</td>\n",
       "      <td>Укроп</td>\n",
       "      <td>408</td>\n",
       "    </tr>\n",
       "    <tr>\n",
       "      <td>Арбуз</td>\n",
       "      <td>Огурцы Луховицкие</td>\n",
       "      <td>345</td>\n",
       "    </tr>\n",
       "    <tr>\n",
       "      <td>Кабачки</td>\n",
       "      <td>Огурцы Луховицкие</td>\n",
       "      <td>326</td>\n",
       "    </tr>\n",
       "    <tr>\n",
       "      <td>Кинза</td>\n",
       "      <td>Укроп</td>\n",
       "      <td>303</td>\n",
       "    </tr>\n",
       "  </tbody>\n",
       "</table>\n",
       "</div>"
      ],
      "text/plain": [
       "                                      id\n",
       "Товар_x           Товар_y               \n",
       "Огурцы Луховицкие Укроп              431\n",
       "Петрушка          Укроп              408\n",
       "Арбуз             Огурцы Луховицкие  345\n",
       "Кабачки           Огурцы Луховицкие  326\n",
       "Кинза             Укроп              303"
      ]
     },
     "execution_count": 355,
     "metadata": {},
     "output_type": "execute_result"
    }
   ],
   "source": [
    "patt\n",
    "# ответы аналогичны"
   ]
  },
  {
   "cell_type": "code",
   "execution_count": null,
   "metadata": {},
   "outputs": [],
   "source": []
  },
  {
   "cell_type": "code",
   "execution_count": null,
   "metadata": {},
   "outputs": [],
   "source": []
  },
  {
   "cell_type": "markdown",
   "metadata": {},
   "source": [
    "### Задание 2"
   ]
  },
  {
   "cell_type": "markdown",
   "metadata": {},
   "source": [
    "К вам поступила информация о числе заказов за прошедшие 3 месяца с разрешением по неделям.\n",
    "<br>\n",
    "Постройте (если это возможно) прогноз продаж на следующие 3 месяца, с учётом того, что в неделю с\n",
    "<br>\n",
    "2020-02-02 по 2020-02-09 была проведена массивная акция, повысившая число заказов на 7%"
   ]
  },
  {
   "cell_type": "code",
   "execution_count": 356,
   "metadata": {},
   "outputs": [],
   "source": [
    "url = \"https://raw.githubusercontent.com/oksana-suvorova/my-projects/main/test2_completed.csv\" \n",
    "# ссылка на файл с исходными данными на гитхабе\n",
    "download = requests.get(url).content\n",
    "orders = pd.read_csv(io.StringIO(download.decode('utf-8')))"
   ]
  },
  {
   "cell_type": "code",
   "execution_count": 357,
   "metadata": {},
   "outputs": [
    {
     "data": {
      "text/html": [
       "<div>\n",
       "<style scoped>\n",
       "    .dataframe tbody tr th:only-of-type {\n",
       "        vertical-align: middle;\n",
       "    }\n",
       "\n",
       "    .dataframe tbody tr th {\n",
       "        vertical-align: top;\n",
       "    }\n",
       "\n",
       "    .dataframe thead th {\n",
       "        text-align: right;\n",
       "    }\n",
       "</style>\n",
       "<table border=\"1\" class=\"dataframe\">\n",
       "  <thead>\n",
       "    <tr style=\"text-align: right;\">\n",
       "      <th></th>\n",
       "      <th>Дата</th>\n",
       "      <th>Число заказов</th>\n",
       "    </tr>\n",
       "  </thead>\n",
       "  <tbody>\n",
       "    <tr>\n",
       "      <td>0</td>\n",
       "      <td>2020-01-05</td>\n",
       "      <td>650</td>\n",
       "    </tr>\n",
       "    <tr>\n",
       "      <td>1</td>\n",
       "      <td>2020-01-12</td>\n",
       "      <td>837</td>\n",
       "    </tr>\n",
       "    <tr>\n",
       "      <td>2</td>\n",
       "      <td>2020-01-19</td>\n",
       "      <td>1020</td>\n",
       "    </tr>\n",
       "    <tr>\n",
       "      <td>3</td>\n",
       "      <td>2020-01-26</td>\n",
       "      <td>1176</td>\n",
       "    </tr>\n",
       "    <tr>\n",
       "      <td>4</td>\n",
       "      <td>2020-02-02</td>\n",
       "      <td>1489</td>\n",
       "    </tr>\n",
       "  </tbody>\n",
       "</table>\n",
       "</div>"
      ],
      "text/plain": [
       "         Дата  Число заказов\n",
       "0  2020-01-05            650\n",
       "1  2020-01-12            837\n",
       "2  2020-01-19           1020\n",
       "3  2020-01-26           1176\n",
       "4  2020-02-02           1489"
      ]
     },
     "execution_count": 357,
     "metadata": {},
     "output_type": "execute_result"
    }
   ],
   "source": [
    "orders.head()"
   ]
  },
  {
   "cell_type": "code",
   "execution_count": 358,
   "metadata": {},
   "outputs": [],
   "source": [
    "orders = orders.rename(columns={'Дата': 'date', 'Число заказов': 'orders'})"
   ]
  },
  {
   "cell_type": "code",
   "execution_count": 359,
   "metadata": {},
   "outputs": [
    {
     "data": {
      "text/plain": [
       "date      object\n",
       "orders     int64\n",
       "dtype: object"
      ]
     },
     "execution_count": 359,
     "metadata": {},
     "output_type": "execute_result"
    }
   ],
   "source": [
    "orders.dtypes"
   ]
  },
  {
   "cell_type": "code",
   "execution_count": 360,
   "metadata": {},
   "outputs": [],
   "source": [
    "orders.date = pd.to_datetime(orders.date)"
   ]
  },
  {
   "cell_type": "code",
   "execution_count": 361,
   "metadata": {},
   "outputs": [
    {
     "data": {
      "text/plain": [
       "(14, 2)"
      ]
     },
     "execution_count": 361,
     "metadata": {},
     "output_type": "execute_result"
    }
   ],
   "source": [
    "orders.shape"
   ]
  },
  {
   "cell_type": "markdown",
   "metadata": {},
   "source": [
    "14 значений - для прогнозирования временного ряда этого немного, сезонность по месяцам или неделям рассчитать по этим\n",
    "<br>\n",
    "данным не получится (желательно иметь несколько лет для расчета сезонности (например, 3 года))\n",
    "<br>\n",
    "но можно построить линейную регрессию для приблизительного прогноза"
   ]
  },
  {
   "cell_type": "code",
   "execution_count": 362,
   "metadata": {},
   "outputs": [],
   "source": [
    "# так как прогноз продаж нужно строить по базовой линии (то есть по продажам, не учитывая акции),\n",
    "# то на неделе с 2020-02-02 по 2020-02-09 необходимо рассчитать реальную базовую линию\n",
    "orders.loc[(orders.date == '2020-02-02'), 'orders'] = orders.orders / 1.07"
   ]
  },
  {
   "cell_type": "markdown",
   "metadata": {},
   "source": [
    "2020-02-02 - это воскресенье, то есть или мы рассматриваем данные иностранной фирмы, где неделя начинается\n",
    "<br>\n",
    "с воскресенья и тогда именно эту неделю - 2020-02-02 нужно делить на 1,07,\n",
    "<br>\n",
    "или кол-во заказов недели записывается последним днем недели, и тогда нужно 2020-02-09 делить на 1,07\n",
    "<br>\n",
    "я полагаю, что первый вариант корректен и поэтому неделю корректирую 2020-02-02\n",
    "<br>\n",
    "однако при работе лучше это уточнить:)"
   ]
  },
  {
   "cell_type": "code",
   "execution_count": 363,
   "metadata": {},
   "outputs": [
    {
     "data": {
      "text/html": [
       "<div>\n",
       "<style scoped>\n",
       "    .dataframe tbody tr th:only-of-type {\n",
       "        vertical-align: middle;\n",
       "    }\n",
       "\n",
       "    .dataframe tbody tr th {\n",
       "        vertical-align: top;\n",
       "    }\n",
       "\n",
       "    .dataframe thead th {\n",
       "        text-align: right;\n",
       "    }\n",
       "</style>\n",
       "<table border=\"1\" class=\"dataframe\">\n",
       "  <thead>\n",
       "    <tr style=\"text-align: right;\">\n",
       "      <th></th>\n",
       "      <th>date</th>\n",
       "      <th>orders</th>\n",
       "    </tr>\n",
       "  </thead>\n",
       "  <tbody>\n",
       "    <tr>\n",
       "      <td>0</td>\n",
       "      <td>2020-01-05</td>\n",
       "      <td>650.000000</td>\n",
       "    </tr>\n",
       "    <tr>\n",
       "      <td>1</td>\n",
       "      <td>2020-01-12</td>\n",
       "      <td>837.000000</td>\n",
       "    </tr>\n",
       "    <tr>\n",
       "      <td>2</td>\n",
       "      <td>2020-01-19</td>\n",
       "      <td>1020.000000</td>\n",
       "    </tr>\n",
       "    <tr>\n",
       "      <td>3</td>\n",
       "      <td>2020-01-26</td>\n",
       "      <td>1176.000000</td>\n",
       "    </tr>\n",
       "    <tr>\n",
       "      <td>4</td>\n",
       "      <td>2020-02-02</td>\n",
       "      <td>1391.588785</td>\n",
       "    </tr>\n",
       "    <tr>\n",
       "      <td>5</td>\n",
       "      <td>2020-02-09</td>\n",
       "      <td>1823.000000</td>\n",
       "    </tr>\n",
       "  </tbody>\n",
       "</table>\n",
       "</div>"
      ],
      "text/plain": [
       "        date       orders\n",
       "0 2020-01-05   650.000000\n",
       "1 2020-01-12   837.000000\n",
       "2 2020-01-19  1020.000000\n",
       "3 2020-01-26  1176.000000\n",
       "4 2020-02-02  1391.588785\n",
       "5 2020-02-09  1823.000000"
      ]
     },
     "execution_count": 363,
     "metadata": {},
     "output_type": "execute_result"
    }
   ],
   "source": [
    "orders.head(6)"
   ]
  },
  {
   "cell_type": "code",
   "execution_count": 364,
   "metadata": {},
   "outputs": [
    {
     "data": {
      "application/vnd.plotly.v1+json": {
       "config": {
        "plotlyServerURL": "https://plot.ly"
       },
       "data": [
        {
         "hovertemplate": "date=%{x}<br>orders=%{y}<extra></extra>",
         "legendgroup": "",
         "line": {
          "color": "#636efa",
          "dash": "solid"
         },
         "marker": {
          "symbol": "circle"
         },
         "mode": "lines",
         "name": "",
         "orientation": "v",
         "showlegend": false,
         "type": "scatter",
         "x": [
          "2020-01-05T00:00:00",
          "2020-01-12T00:00:00",
          "2020-01-19T00:00:00",
          "2020-01-26T00:00:00",
          "2020-02-02T00:00:00",
          "2020-02-09T00:00:00",
          "2020-02-16T00:00:00",
          "2020-02-23T00:00:00",
          "2020-03-01T00:00:00",
          "2020-03-08T00:00:00",
          "2020-03-15T00:00:00",
          "2020-03-22T00:00:00",
          "2020-03-29T00:00:00",
          "2020-04-05T00:00:00"
         ],
         "xaxis": "x",
         "y": [
          650,
          837,
          1020,
          1176,
          1391.5887850467288,
          1823,
          1991,
          2166,
          2334,
          2607,
          2734,
          3492,
          3608,
          3857
         ],
         "yaxis": "y"
        }
       ],
       "layout": {
        "legend": {
         "tracegroupgap": 0
        },
        "margin": {
         "t": 60
        },
        "template": {
         "data": {
          "bar": [
           {
            "error_x": {
             "color": "#2a3f5f"
            },
            "error_y": {
             "color": "#2a3f5f"
            },
            "marker": {
             "line": {
              "color": "#E5ECF6",
              "width": 0.5
             },
             "pattern": {
              "fillmode": "overlay",
              "size": 10,
              "solidity": 0.2
             }
            },
            "type": "bar"
           }
          ],
          "barpolar": [
           {
            "marker": {
             "line": {
              "color": "#E5ECF6",
              "width": 0.5
             },
             "pattern": {
              "fillmode": "overlay",
              "size": 10,
              "solidity": 0.2
             }
            },
            "type": "barpolar"
           }
          ],
          "carpet": [
           {
            "aaxis": {
             "endlinecolor": "#2a3f5f",
             "gridcolor": "white",
             "linecolor": "white",
             "minorgridcolor": "white",
             "startlinecolor": "#2a3f5f"
            },
            "baxis": {
             "endlinecolor": "#2a3f5f",
             "gridcolor": "white",
             "linecolor": "white",
             "minorgridcolor": "white",
             "startlinecolor": "#2a3f5f"
            },
            "type": "carpet"
           }
          ],
          "choropleth": [
           {
            "colorbar": {
             "outlinewidth": 0,
             "ticks": ""
            },
            "type": "choropleth"
           }
          ],
          "contour": [
           {
            "colorbar": {
             "outlinewidth": 0,
             "ticks": ""
            },
            "colorscale": [
             [
              0,
              "#0d0887"
             ],
             [
              0.1111111111111111,
              "#46039f"
             ],
             [
              0.2222222222222222,
              "#7201a8"
             ],
             [
              0.3333333333333333,
              "#9c179e"
             ],
             [
              0.4444444444444444,
              "#bd3786"
             ],
             [
              0.5555555555555556,
              "#d8576b"
             ],
             [
              0.6666666666666666,
              "#ed7953"
             ],
             [
              0.7777777777777778,
              "#fb9f3a"
             ],
             [
              0.8888888888888888,
              "#fdca26"
             ],
             [
              1,
              "#f0f921"
             ]
            ],
            "type": "contour"
           }
          ],
          "contourcarpet": [
           {
            "colorbar": {
             "outlinewidth": 0,
             "ticks": ""
            },
            "type": "contourcarpet"
           }
          ],
          "heatmap": [
           {
            "colorbar": {
             "outlinewidth": 0,
             "ticks": ""
            },
            "colorscale": [
             [
              0,
              "#0d0887"
             ],
             [
              0.1111111111111111,
              "#46039f"
             ],
             [
              0.2222222222222222,
              "#7201a8"
             ],
             [
              0.3333333333333333,
              "#9c179e"
             ],
             [
              0.4444444444444444,
              "#bd3786"
             ],
             [
              0.5555555555555556,
              "#d8576b"
             ],
             [
              0.6666666666666666,
              "#ed7953"
             ],
             [
              0.7777777777777778,
              "#fb9f3a"
             ],
             [
              0.8888888888888888,
              "#fdca26"
             ],
             [
              1,
              "#f0f921"
             ]
            ],
            "type": "heatmap"
           }
          ],
          "heatmapgl": [
           {
            "colorbar": {
             "outlinewidth": 0,
             "ticks": ""
            },
            "colorscale": [
             [
              0,
              "#0d0887"
             ],
             [
              0.1111111111111111,
              "#46039f"
             ],
             [
              0.2222222222222222,
              "#7201a8"
             ],
             [
              0.3333333333333333,
              "#9c179e"
             ],
             [
              0.4444444444444444,
              "#bd3786"
             ],
             [
              0.5555555555555556,
              "#d8576b"
             ],
             [
              0.6666666666666666,
              "#ed7953"
             ],
             [
              0.7777777777777778,
              "#fb9f3a"
             ],
             [
              0.8888888888888888,
              "#fdca26"
             ],
             [
              1,
              "#f0f921"
             ]
            ],
            "type": "heatmapgl"
           }
          ],
          "histogram": [
           {
            "marker": {
             "pattern": {
              "fillmode": "overlay",
              "size": 10,
              "solidity": 0.2
             }
            },
            "type": "histogram"
           }
          ],
          "histogram2d": [
           {
            "colorbar": {
             "outlinewidth": 0,
             "ticks": ""
            },
            "colorscale": [
             [
              0,
              "#0d0887"
             ],
             [
              0.1111111111111111,
              "#46039f"
             ],
             [
              0.2222222222222222,
              "#7201a8"
             ],
             [
              0.3333333333333333,
              "#9c179e"
             ],
             [
              0.4444444444444444,
              "#bd3786"
             ],
             [
              0.5555555555555556,
              "#d8576b"
             ],
             [
              0.6666666666666666,
              "#ed7953"
             ],
             [
              0.7777777777777778,
              "#fb9f3a"
             ],
             [
              0.8888888888888888,
              "#fdca26"
             ],
             [
              1,
              "#f0f921"
             ]
            ],
            "type": "histogram2d"
           }
          ],
          "histogram2dcontour": [
           {
            "colorbar": {
             "outlinewidth": 0,
             "ticks": ""
            },
            "colorscale": [
             [
              0,
              "#0d0887"
             ],
             [
              0.1111111111111111,
              "#46039f"
             ],
             [
              0.2222222222222222,
              "#7201a8"
             ],
             [
              0.3333333333333333,
              "#9c179e"
             ],
             [
              0.4444444444444444,
              "#bd3786"
             ],
             [
              0.5555555555555556,
              "#d8576b"
             ],
             [
              0.6666666666666666,
              "#ed7953"
             ],
             [
              0.7777777777777778,
              "#fb9f3a"
             ],
             [
              0.8888888888888888,
              "#fdca26"
             ],
             [
              1,
              "#f0f921"
             ]
            ],
            "type": "histogram2dcontour"
           }
          ],
          "mesh3d": [
           {
            "colorbar": {
             "outlinewidth": 0,
             "ticks": ""
            },
            "type": "mesh3d"
           }
          ],
          "parcoords": [
           {
            "line": {
             "colorbar": {
              "outlinewidth": 0,
              "ticks": ""
             }
            },
            "type": "parcoords"
           }
          ],
          "pie": [
           {
            "automargin": true,
            "type": "pie"
           }
          ],
          "scatter": [
           {
            "marker": {
             "colorbar": {
              "outlinewidth": 0,
              "ticks": ""
             }
            },
            "type": "scatter"
           }
          ],
          "scatter3d": [
           {
            "line": {
             "colorbar": {
              "outlinewidth": 0,
              "ticks": ""
             }
            },
            "marker": {
             "colorbar": {
              "outlinewidth": 0,
              "ticks": ""
             }
            },
            "type": "scatter3d"
           }
          ],
          "scattercarpet": [
           {
            "marker": {
             "colorbar": {
              "outlinewidth": 0,
              "ticks": ""
             }
            },
            "type": "scattercarpet"
           }
          ],
          "scattergeo": [
           {
            "marker": {
             "colorbar": {
              "outlinewidth": 0,
              "ticks": ""
             }
            },
            "type": "scattergeo"
           }
          ],
          "scattergl": [
           {
            "marker": {
             "colorbar": {
              "outlinewidth": 0,
              "ticks": ""
             }
            },
            "type": "scattergl"
           }
          ],
          "scattermapbox": [
           {
            "marker": {
             "colorbar": {
              "outlinewidth": 0,
              "ticks": ""
             }
            },
            "type": "scattermapbox"
           }
          ],
          "scatterpolar": [
           {
            "marker": {
             "colorbar": {
              "outlinewidth": 0,
              "ticks": ""
             }
            },
            "type": "scatterpolar"
           }
          ],
          "scatterpolargl": [
           {
            "marker": {
             "colorbar": {
              "outlinewidth": 0,
              "ticks": ""
             }
            },
            "type": "scatterpolargl"
           }
          ],
          "scatterternary": [
           {
            "marker": {
             "colorbar": {
              "outlinewidth": 0,
              "ticks": ""
             }
            },
            "type": "scatterternary"
           }
          ],
          "surface": [
           {
            "colorbar": {
             "outlinewidth": 0,
             "ticks": ""
            },
            "colorscale": [
             [
              0,
              "#0d0887"
             ],
             [
              0.1111111111111111,
              "#46039f"
             ],
             [
              0.2222222222222222,
              "#7201a8"
             ],
             [
              0.3333333333333333,
              "#9c179e"
             ],
             [
              0.4444444444444444,
              "#bd3786"
             ],
             [
              0.5555555555555556,
              "#d8576b"
             ],
             [
              0.6666666666666666,
              "#ed7953"
             ],
             [
              0.7777777777777778,
              "#fb9f3a"
             ],
             [
              0.8888888888888888,
              "#fdca26"
             ],
             [
              1,
              "#f0f921"
             ]
            ],
            "type": "surface"
           }
          ],
          "table": [
           {
            "cells": {
             "fill": {
              "color": "#EBF0F8"
             },
             "line": {
              "color": "white"
             }
            },
            "header": {
             "fill": {
              "color": "#C8D4E3"
             },
             "line": {
              "color": "white"
             }
            },
            "type": "table"
           }
          ]
         },
         "layout": {
          "annotationdefaults": {
           "arrowcolor": "#2a3f5f",
           "arrowhead": 0,
           "arrowwidth": 1
          },
          "autotypenumbers": "strict",
          "coloraxis": {
           "colorbar": {
            "outlinewidth": 0,
            "ticks": ""
           }
          },
          "colorscale": {
           "diverging": [
            [
             0,
             "#8e0152"
            ],
            [
             0.1,
             "#c51b7d"
            ],
            [
             0.2,
             "#de77ae"
            ],
            [
             0.3,
             "#f1b6da"
            ],
            [
             0.4,
             "#fde0ef"
            ],
            [
             0.5,
             "#f7f7f7"
            ],
            [
             0.6,
             "#e6f5d0"
            ],
            [
             0.7,
             "#b8e186"
            ],
            [
             0.8,
             "#7fbc41"
            ],
            [
             0.9,
             "#4d9221"
            ],
            [
             1,
             "#276419"
            ]
           ],
           "sequential": [
            [
             0,
             "#0d0887"
            ],
            [
             0.1111111111111111,
             "#46039f"
            ],
            [
             0.2222222222222222,
             "#7201a8"
            ],
            [
             0.3333333333333333,
             "#9c179e"
            ],
            [
             0.4444444444444444,
             "#bd3786"
            ],
            [
             0.5555555555555556,
             "#d8576b"
            ],
            [
             0.6666666666666666,
             "#ed7953"
            ],
            [
             0.7777777777777778,
             "#fb9f3a"
            ],
            [
             0.8888888888888888,
             "#fdca26"
            ],
            [
             1,
             "#f0f921"
            ]
           ],
           "sequentialminus": [
            [
             0,
             "#0d0887"
            ],
            [
             0.1111111111111111,
             "#46039f"
            ],
            [
             0.2222222222222222,
             "#7201a8"
            ],
            [
             0.3333333333333333,
             "#9c179e"
            ],
            [
             0.4444444444444444,
             "#bd3786"
            ],
            [
             0.5555555555555556,
             "#d8576b"
            ],
            [
             0.6666666666666666,
             "#ed7953"
            ],
            [
             0.7777777777777778,
             "#fb9f3a"
            ],
            [
             0.8888888888888888,
             "#fdca26"
            ],
            [
             1,
             "#f0f921"
            ]
           ]
          },
          "colorway": [
           "#636efa",
           "#EF553B",
           "#00cc96",
           "#ab63fa",
           "#FFA15A",
           "#19d3f3",
           "#FF6692",
           "#B6E880",
           "#FF97FF",
           "#FECB52"
          ],
          "font": {
           "color": "#2a3f5f"
          },
          "geo": {
           "bgcolor": "white",
           "lakecolor": "white",
           "landcolor": "#E5ECF6",
           "showlakes": true,
           "showland": true,
           "subunitcolor": "white"
          },
          "hoverlabel": {
           "align": "left"
          },
          "hovermode": "closest",
          "mapbox": {
           "style": "light"
          },
          "paper_bgcolor": "white",
          "plot_bgcolor": "#E5ECF6",
          "polar": {
           "angularaxis": {
            "gridcolor": "white",
            "linecolor": "white",
            "ticks": ""
           },
           "bgcolor": "#E5ECF6",
           "radialaxis": {
            "gridcolor": "white",
            "linecolor": "white",
            "ticks": ""
           }
          },
          "scene": {
           "xaxis": {
            "backgroundcolor": "#E5ECF6",
            "gridcolor": "white",
            "gridwidth": 2,
            "linecolor": "white",
            "showbackground": true,
            "ticks": "",
            "zerolinecolor": "white"
           },
           "yaxis": {
            "backgroundcolor": "#E5ECF6",
            "gridcolor": "white",
            "gridwidth": 2,
            "linecolor": "white",
            "showbackground": true,
            "ticks": "",
            "zerolinecolor": "white"
           },
           "zaxis": {
            "backgroundcolor": "#E5ECF6",
            "gridcolor": "white",
            "gridwidth": 2,
            "linecolor": "white",
            "showbackground": true,
            "ticks": "",
            "zerolinecolor": "white"
           }
          },
          "shapedefaults": {
           "line": {
            "color": "#2a3f5f"
           }
          },
          "ternary": {
           "aaxis": {
            "gridcolor": "white",
            "linecolor": "white",
            "ticks": ""
           },
           "baxis": {
            "gridcolor": "white",
            "linecolor": "white",
            "ticks": ""
           },
           "bgcolor": "#E5ECF6",
           "caxis": {
            "gridcolor": "white",
            "linecolor": "white",
            "ticks": ""
           }
          },
          "title": {
           "x": 0.05
          },
          "xaxis": {
           "automargin": true,
           "gridcolor": "white",
           "linecolor": "white",
           "ticks": "",
           "title": {
            "standoff": 15
           },
           "zerolinecolor": "white",
           "zerolinewidth": 2
          },
          "yaxis": {
           "automargin": true,
           "gridcolor": "white",
           "linecolor": "white",
           "ticks": "",
           "title": {
            "standoff": 15
           },
           "zerolinecolor": "white",
           "zerolinewidth": 2
          }
         }
        },
        "xaxis": {
         "anchor": "y",
         "domain": [
          0,
          1
         ],
         "title": {
          "text": "date"
         }
        },
        "yaxis": {
         "anchor": "x",
         "domain": [
          0,
          1
         ],
         "title": {
          "text": "orders"
         }
        }
       }
      },
      "text/html": [
       "<div>                            <div id=\"cf75c216-afeb-45a3-8ac5-17cad9604fb3\" class=\"plotly-graph-div\" style=\"height:525px; width:100%;\"></div>            <script type=\"text/javascript\">                require([\"plotly\"], function(Plotly) {                    window.PLOTLYENV=window.PLOTLYENV || {};                                    if (document.getElementById(\"cf75c216-afeb-45a3-8ac5-17cad9604fb3\")) {                    Plotly.newPlot(                        \"cf75c216-afeb-45a3-8ac5-17cad9604fb3\",                        [{\"hovertemplate\":\"date=%{x}<br>orders=%{y}<extra></extra>\",\"legendgroup\":\"\",\"line\":{\"color\":\"#636efa\",\"dash\":\"solid\"},\"marker\":{\"symbol\":\"circle\"},\"mode\":\"lines\",\"name\":\"\",\"orientation\":\"v\",\"showlegend\":false,\"type\":\"scatter\",\"x\":[\"2020-01-05T00:00:00\",\"2020-01-12T00:00:00\",\"2020-01-19T00:00:00\",\"2020-01-26T00:00:00\",\"2020-02-02T00:00:00\",\"2020-02-09T00:00:00\",\"2020-02-16T00:00:00\",\"2020-02-23T00:00:00\",\"2020-03-01T00:00:00\",\"2020-03-08T00:00:00\",\"2020-03-15T00:00:00\",\"2020-03-22T00:00:00\",\"2020-03-29T00:00:00\",\"2020-04-05T00:00:00\"],\"xaxis\":\"x\",\"y\":[650.0,837.0,1020.0,1176.0,1391.5887850467288,1823.0,1991.0,2166.0,2334.0,2607.0,2734.0,3492.0,3608.0,3857.0],\"yaxis\":\"y\"}],                        {\"legend\":{\"tracegroupgap\":0},\"margin\":{\"t\":60},\"template\":{\"data\":{\"bar\":[{\"error_x\":{\"color\":\"#2a3f5f\"},\"error_y\":{\"color\":\"#2a3f5f\"},\"marker\":{\"line\":{\"color\":\"#E5ECF6\",\"width\":0.5},\"pattern\":{\"fillmode\":\"overlay\",\"size\":10,\"solidity\":0.2}},\"type\":\"bar\"}],\"barpolar\":[{\"marker\":{\"line\":{\"color\":\"#E5ECF6\",\"width\":0.5},\"pattern\":{\"fillmode\":\"overlay\",\"size\":10,\"solidity\":0.2}},\"type\":\"barpolar\"}],\"carpet\":[{\"aaxis\":{\"endlinecolor\":\"#2a3f5f\",\"gridcolor\":\"white\",\"linecolor\":\"white\",\"minorgridcolor\":\"white\",\"startlinecolor\":\"#2a3f5f\"},\"baxis\":{\"endlinecolor\":\"#2a3f5f\",\"gridcolor\":\"white\",\"linecolor\":\"white\",\"minorgridcolor\":\"white\",\"startlinecolor\":\"#2a3f5f\"},\"type\":\"carpet\"}],\"choropleth\":[{\"colorbar\":{\"outlinewidth\":0,\"ticks\":\"\"},\"type\":\"choropleth\"}],\"contour\":[{\"colorbar\":{\"outlinewidth\":0,\"ticks\":\"\"},\"colorscale\":[[0.0,\"#0d0887\"],[0.1111111111111111,\"#46039f\"],[0.2222222222222222,\"#7201a8\"],[0.3333333333333333,\"#9c179e\"],[0.4444444444444444,\"#bd3786\"],[0.5555555555555556,\"#d8576b\"],[0.6666666666666666,\"#ed7953\"],[0.7777777777777778,\"#fb9f3a\"],[0.8888888888888888,\"#fdca26\"],[1.0,\"#f0f921\"]],\"type\":\"contour\"}],\"contourcarpet\":[{\"colorbar\":{\"outlinewidth\":0,\"ticks\":\"\"},\"type\":\"contourcarpet\"}],\"heatmap\":[{\"colorbar\":{\"outlinewidth\":0,\"ticks\":\"\"},\"colorscale\":[[0.0,\"#0d0887\"],[0.1111111111111111,\"#46039f\"],[0.2222222222222222,\"#7201a8\"],[0.3333333333333333,\"#9c179e\"],[0.4444444444444444,\"#bd3786\"],[0.5555555555555556,\"#d8576b\"],[0.6666666666666666,\"#ed7953\"],[0.7777777777777778,\"#fb9f3a\"],[0.8888888888888888,\"#fdca26\"],[1.0,\"#f0f921\"]],\"type\":\"heatmap\"}],\"heatmapgl\":[{\"colorbar\":{\"outlinewidth\":0,\"ticks\":\"\"},\"colorscale\":[[0.0,\"#0d0887\"],[0.1111111111111111,\"#46039f\"],[0.2222222222222222,\"#7201a8\"],[0.3333333333333333,\"#9c179e\"],[0.4444444444444444,\"#bd3786\"],[0.5555555555555556,\"#d8576b\"],[0.6666666666666666,\"#ed7953\"],[0.7777777777777778,\"#fb9f3a\"],[0.8888888888888888,\"#fdca26\"],[1.0,\"#f0f921\"]],\"type\":\"heatmapgl\"}],\"histogram\":[{\"marker\":{\"pattern\":{\"fillmode\":\"overlay\",\"size\":10,\"solidity\":0.2}},\"type\":\"histogram\"}],\"histogram2d\":[{\"colorbar\":{\"outlinewidth\":0,\"ticks\":\"\"},\"colorscale\":[[0.0,\"#0d0887\"],[0.1111111111111111,\"#46039f\"],[0.2222222222222222,\"#7201a8\"],[0.3333333333333333,\"#9c179e\"],[0.4444444444444444,\"#bd3786\"],[0.5555555555555556,\"#d8576b\"],[0.6666666666666666,\"#ed7953\"],[0.7777777777777778,\"#fb9f3a\"],[0.8888888888888888,\"#fdca26\"],[1.0,\"#f0f921\"]],\"type\":\"histogram2d\"}],\"histogram2dcontour\":[{\"colorbar\":{\"outlinewidth\":0,\"ticks\":\"\"},\"colorscale\":[[0.0,\"#0d0887\"],[0.1111111111111111,\"#46039f\"],[0.2222222222222222,\"#7201a8\"],[0.3333333333333333,\"#9c179e\"],[0.4444444444444444,\"#bd3786\"],[0.5555555555555556,\"#d8576b\"],[0.6666666666666666,\"#ed7953\"],[0.7777777777777778,\"#fb9f3a\"],[0.8888888888888888,\"#fdca26\"],[1.0,\"#f0f921\"]],\"type\":\"histogram2dcontour\"}],\"mesh3d\":[{\"colorbar\":{\"outlinewidth\":0,\"ticks\":\"\"},\"type\":\"mesh3d\"}],\"parcoords\":[{\"line\":{\"colorbar\":{\"outlinewidth\":0,\"ticks\":\"\"}},\"type\":\"parcoords\"}],\"pie\":[{\"automargin\":true,\"type\":\"pie\"}],\"scatter\":[{\"marker\":{\"colorbar\":{\"outlinewidth\":0,\"ticks\":\"\"}},\"type\":\"scatter\"}],\"scatter3d\":[{\"line\":{\"colorbar\":{\"outlinewidth\":0,\"ticks\":\"\"}},\"marker\":{\"colorbar\":{\"outlinewidth\":0,\"ticks\":\"\"}},\"type\":\"scatter3d\"}],\"scattercarpet\":[{\"marker\":{\"colorbar\":{\"outlinewidth\":0,\"ticks\":\"\"}},\"type\":\"scattercarpet\"}],\"scattergeo\":[{\"marker\":{\"colorbar\":{\"outlinewidth\":0,\"ticks\":\"\"}},\"type\":\"scattergeo\"}],\"scattergl\":[{\"marker\":{\"colorbar\":{\"outlinewidth\":0,\"ticks\":\"\"}},\"type\":\"scattergl\"}],\"scattermapbox\":[{\"marker\":{\"colorbar\":{\"outlinewidth\":0,\"ticks\":\"\"}},\"type\":\"scattermapbox\"}],\"scatterpolar\":[{\"marker\":{\"colorbar\":{\"outlinewidth\":0,\"ticks\":\"\"}},\"type\":\"scatterpolar\"}],\"scatterpolargl\":[{\"marker\":{\"colorbar\":{\"outlinewidth\":0,\"ticks\":\"\"}},\"type\":\"scatterpolargl\"}],\"scatterternary\":[{\"marker\":{\"colorbar\":{\"outlinewidth\":0,\"ticks\":\"\"}},\"type\":\"scatterternary\"}],\"surface\":[{\"colorbar\":{\"outlinewidth\":0,\"ticks\":\"\"},\"colorscale\":[[0.0,\"#0d0887\"],[0.1111111111111111,\"#46039f\"],[0.2222222222222222,\"#7201a8\"],[0.3333333333333333,\"#9c179e\"],[0.4444444444444444,\"#bd3786\"],[0.5555555555555556,\"#d8576b\"],[0.6666666666666666,\"#ed7953\"],[0.7777777777777778,\"#fb9f3a\"],[0.8888888888888888,\"#fdca26\"],[1.0,\"#f0f921\"]],\"type\":\"surface\"}],\"table\":[{\"cells\":{\"fill\":{\"color\":\"#EBF0F8\"},\"line\":{\"color\":\"white\"}},\"header\":{\"fill\":{\"color\":\"#C8D4E3\"},\"line\":{\"color\":\"white\"}},\"type\":\"table\"}]},\"layout\":{\"annotationdefaults\":{\"arrowcolor\":\"#2a3f5f\",\"arrowhead\":0,\"arrowwidth\":1},\"autotypenumbers\":\"strict\",\"coloraxis\":{\"colorbar\":{\"outlinewidth\":0,\"ticks\":\"\"}},\"colorscale\":{\"diverging\":[[0,\"#8e0152\"],[0.1,\"#c51b7d\"],[0.2,\"#de77ae\"],[0.3,\"#f1b6da\"],[0.4,\"#fde0ef\"],[0.5,\"#f7f7f7\"],[0.6,\"#e6f5d0\"],[0.7,\"#b8e186\"],[0.8,\"#7fbc41\"],[0.9,\"#4d9221\"],[1,\"#276419\"]],\"sequential\":[[0.0,\"#0d0887\"],[0.1111111111111111,\"#46039f\"],[0.2222222222222222,\"#7201a8\"],[0.3333333333333333,\"#9c179e\"],[0.4444444444444444,\"#bd3786\"],[0.5555555555555556,\"#d8576b\"],[0.6666666666666666,\"#ed7953\"],[0.7777777777777778,\"#fb9f3a\"],[0.8888888888888888,\"#fdca26\"],[1.0,\"#f0f921\"]],\"sequentialminus\":[[0.0,\"#0d0887\"],[0.1111111111111111,\"#46039f\"],[0.2222222222222222,\"#7201a8\"],[0.3333333333333333,\"#9c179e\"],[0.4444444444444444,\"#bd3786\"],[0.5555555555555556,\"#d8576b\"],[0.6666666666666666,\"#ed7953\"],[0.7777777777777778,\"#fb9f3a\"],[0.8888888888888888,\"#fdca26\"],[1.0,\"#f0f921\"]]},\"colorway\":[\"#636efa\",\"#EF553B\",\"#00cc96\",\"#ab63fa\",\"#FFA15A\",\"#19d3f3\",\"#FF6692\",\"#B6E880\",\"#FF97FF\",\"#FECB52\"],\"font\":{\"color\":\"#2a3f5f\"},\"geo\":{\"bgcolor\":\"white\",\"lakecolor\":\"white\",\"landcolor\":\"#E5ECF6\",\"showlakes\":true,\"showland\":true,\"subunitcolor\":\"white\"},\"hoverlabel\":{\"align\":\"left\"},\"hovermode\":\"closest\",\"mapbox\":{\"style\":\"light\"},\"paper_bgcolor\":\"white\",\"plot_bgcolor\":\"#E5ECF6\",\"polar\":{\"angularaxis\":{\"gridcolor\":\"white\",\"linecolor\":\"white\",\"ticks\":\"\"},\"bgcolor\":\"#E5ECF6\",\"radialaxis\":{\"gridcolor\":\"white\",\"linecolor\":\"white\",\"ticks\":\"\"}},\"scene\":{\"xaxis\":{\"backgroundcolor\":\"#E5ECF6\",\"gridcolor\":\"white\",\"gridwidth\":2,\"linecolor\":\"white\",\"showbackground\":true,\"ticks\":\"\",\"zerolinecolor\":\"white\"},\"yaxis\":{\"backgroundcolor\":\"#E5ECF6\",\"gridcolor\":\"white\",\"gridwidth\":2,\"linecolor\":\"white\",\"showbackground\":true,\"ticks\":\"\",\"zerolinecolor\":\"white\"},\"zaxis\":{\"backgroundcolor\":\"#E5ECF6\",\"gridcolor\":\"white\",\"gridwidth\":2,\"linecolor\":\"white\",\"showbackground\":true,\"ticks\":\"\",\"zerolinecolor\":\"white\"}},\"shapedefaults\":{\"line\":{\"color\":\"#2a3f5f\"}},\"ternary\":{\"aaxis\":{\"gridcolor\":\"white\",\"linecolor\":\"white\",\"ticks\":\"\"},\"baxis\":{\"gridcolor\":\"white\",\"linecolor\":\"white\",\"ticks\":\"\"},\"bgcolor\":\"#E5ECF6\",\"caxis\":{\"gridcolor\":\"white\",\"linecolor\":\"white\",\"ticks\":\"\"}},\"title\":{\"x\":0.05},\"xaxis\":{\"automargin\":true,\"gridcolor\":\"white\",\"linecolor\":\"white\",\"ticks\":\"\",\"title\":{\"standoff\":15},\"zerolinecolor\":\"white\",\"zerolinewidth\":2},\"yaxis\":{\"automargin\":true,\"gridcolor\":\"white\",\"linecolor\":\"white\",\"ticks\":\"\",\"title\":{\"standoff\":15},\"zerolinecolor\":\"white\",\"zerolinewidth\":2}}},\"xaxis\":{\"anchor\":\"y\",\"domain\":[0.0,1.0],\"title\":{\"text\":\"date\"}},\"yaxis\":{\"anchor\":\"x\",\"domain\":[0.0,1.0],\"title\":{\"text\":\"orders\"}}},                        {\"responsive\": true}                    ).then(function(){\n",
       "                            \n",
       "var gd = document.getElementById('cf75c216-afeb-45a3-8ac5-17cad9604fb3');\n",
       "var x = new MutationObserver(function (mutations, observer) {{\n",
       "        var display = window.getComputedStyle(gd).display;\n",
       "        if (!display || display === 'none') {{\n",
       "            console.log([gd, 'removed!']);\n",
       "            Plotly.purge(gd);\n",
       "            observer.disconnect();\n",
       "        }}\n",
       "}});\n",
       "\n",
       "// Listen for the removal of the full notebook cells\n",
       "var notebookContainer = gd.closest('#notebook-container');\n",
       "if (notebookContainer) {{\n",
       "    x.observe(notebookContainer, {childList: true});\n",
       "}}\n",
       "\n",
       "// Listen for the clearing of the current output cell\n",
       "var outputEl = gd.closest('.output');\n",
       "if (outputEl) {{\n",
       "    x.observe(outputEl, {childList: true});\n",
       "}}\n",
       "\n",
       "                        })                };                });            </script>        </div>"
      ]
     },
     "metadata": {},
     "output_type": "display_data"
    }
   ],
   "source": [
    "fig = px.line(orders, x=\"date\", y=\"orders\")\n",
    "fig.show()\n",
    "# растущий тренд"
   ]
  },
  {
   "cell_type": "code",
   "execution_count": 365,
   "metadata": {},
   "outputs": [],
   "source": [
    "orders['num'] = np.arange(len(orders)) + 1"
   ]
  },
  {
   "cell_type": "code",
   "execution_count": 366,
   "metadata": {},
   "outputs": [
    {
     "data": {
      "text/html": [
       "<div>\n",
       "<style scoped>\n",
       "    .dataframe tbody tr th:only-of-type {\n",
       "        vertical-align: middle;\n",
       "    }\n",
       "\n",
       "    .dataframe tbody tr th {\n",
       "        vertical-align: top;\n",
       "    }\n",
       "\n",
       "    .dataframe thead th {\n",
       "        text-align: right;\n",
       "    }\n",
       "</style>\n",
       "<table border=\"1\" class=\"dataframe\">\n",
       "  <thead>\n",
       "    <tr style=\"text-align: right;\">\n",
       "      <th></th>\n",
       "      <th>date</th>\n",
       "      <th>orders</th>\n",
       "      <th>num</th>\n",
       "    </tr>\n",
       "  </thead>\n",
       "  <tbody>\n",
       "    <tr>\n",
       "      <td>0</td>\n",
       "      <td>2020-01-05</td>\n",
       "      <td>650.000000</td>\n",
       "      <td>1</td>\n",
       "    </tr>\n",
       "    <tr>\n",
       "      <td>1</td>\n",
       "      <td>2020-01-12</td>\n",
       "      <td>837.000000</td>\n",
       "      <td>2</td>\n",
       "    </tr>\n",
       "    <tr>\n",
       "      <td>2</td>\n",
       "      <td>2020-01-19</td>\n",
       "      <td>1020.000000</td>\n",
       "      <td>3</td>\n",
       "    </tr>\n",
       "    <tr>\n",
       "      <td>3</td>\n",
       "      <td>2020-01-26</td>\n",
       "      <td>1176.000000</td>\n",
       "      <td>4</td>\n",
       "    </tr>\n",
       "    <tr>\n",
       "      <td>4</td>\n",
       "      <td>2020-02-02</td>\n",
       "      <td>1391.588785</td>\n",
       "      <td>5</td>\n",
       "    </tr>\n",
       "  </tbody>\n",
       "</table>\n",
       "</div>"
      ],
      "text/plain": [
       "        date       orders  num\n",
       "0 2020-01-05   650.000000    1\n",
       "1 2020-01-12   837.000000    2\n",
       "2 2020-01-19  1020.000000    3\n",
       "3 2020-01-26  1176.000000    4\n",
       "4 2020-02-02  1391.588785    5"
      ]
     },
     "execution_count": 366,
     "metadata": {},
     "output_type": "execute_result"
    }
   ],
   "source": [
    "orders.head()"
   ]
  },
  {
   "cell_type": "code",
   "execution_count": 367,
   "metadata": {},
   "outputs": [
    {
     "name": "stdout",
     "output_type": "stream",
     "text": [
      "                            OLS Regression Results                            \n",
      "==============================================================================\n",
      "Dep. Variable:                 orders   R-squared:                       0.982\n",
      "Model:                            OLS   Adj. R-squared:                  0.980\n",
      "Method:                 Least Squares   F-statistic:                     649.2\n",
      "Date:                Sat, 06 Nov 2021   Prob (F-statistic):           8.12e-12\n",
      "Time:                        19:14:46   Log-Likelihood:                -88.667\n",
      "No. Observations:                  14   AIC:                             181.3\n",
      "Df Residuals:                      12   BIC:                             182.6\n",
      "Df Model:                           1                                         \n",
      "Covariance Type:            nonrobust                                         \n",
      "==============================================================================\n",
      "                 coef    std err          t      P>|t|      [0.025      0.975]\n",
      "------------------------------------------------------------------------------\n",
      "Intercept    256.0027     83.074      3.082      0.010      75.001     437.004\n",
      "num          248.5957      9.756     25.480      0.000     227.338     269.853\n",
      "==============================================================================\n",
      "Omnibus:                        0.197   Durbin-Watson:                   1.393\n",
      "Prob(Omnibus):                  0.906   Jarque-Bera (JB):                0.392\n",
      "Skew:                          -0.050   Prob(JB):                        0.822\n",
      "Kurtosis:                       2.187   Cond. No.                         18.2\n",
      "==============================================================================\n",
      "\n",
      "Warnings:\n",
      "[1] Standard Errors assume that the covariance matrix of the errors is correctly specified.\n"
     ]
    }
   ],
   "source": [
    "# строим линейную регрессию МНК\n",
    "results = smf.ols('orders ~ num', orders).fit()\n",
    "print(results.summary())"
   ]
  },
  {
   "cell_type": "code",
   "execution_count": 368,
   "metadata": {},
   "outputs": [],
   "source": [
    "# Adj. R-squared высокий"
   ]
  },
  {
   "cell_type": "code",
   "execution_count": 369,
   "metadata": {},
   "outputs": [],
   "source": [
    "# получившаяся модель orders = 256.0027 + 248.5957 * num\n",
    "intercept = smf.ols('orders ~ num', orders).fit().params[0]\n",
    "paramnum = smf.ols('orders ~ num', orders).fit().params[1]"
   ]
  },
  {
   "cell_type": "code",
   "execution_count": 370,
   "metadata": {},
   "outputs": [],
   "source": [
    "# формула для расчета прогноза на 3 месяца вперед\n",
    "for i in range(15, 28):\n",
    "    orders.loc[i] = [pd.to_datetime('2020-04-05') + datetime.timedelta(days=(i - 14) * 7), intercept + paramnum * i, i]"
   ]
  },
  {
   "cell_type": "code",
   "execution_count": 371,
   "metadata": {},
   "outputs": [],
   "source": [
    "# для интереса посчитаем точность прогноза и BIAS"
   ]
  },
  {
   "cell_type": "code",
   "execution_count": 372,
   "metadata": {},
   "outputs": [],
   "source": [
    "orders['forecast'] = intercept + paramnum * orders.num"
   ]
  },
  {
   "cell_type": "code",
   "execution_count": 373,
   "metadata": {},
   "outputs": [],
   "source": [
    "orders['BIAS, %'] = (1 - orders.orders / orders.forecast).mul(100).round(1)\n",
    "# отрицательный BIAS - недопрогнозировали, положительный - перепрогнозировали\n",
    "# BIAS почти на всех наблюдениях не выходит за пределы +-10%, это хороший показатель"
   ]
  },
  {
   "cell_type": "code",
   "execution_count": 374,
   "metadata": {},
   "outputs": [],
   "source": [
    "orders['FA, %'] = (1 - np.absolute(orders.forecast - orders.orders) / orders.orders).mul(100).round(1)\n",
    "# точность прогноза показывает насколько мы точно в своих прогнозах в сравнении с фактом\n",
    "# точность прогноза почти на всех неделях более 90%, что тоже очень хорошо"
   ]
  },
  {
   "cell_type": "code",
   "execution_count": 375,
   "metadata": {},
   "outputs": [
    {
     "data": {
      "text/html": [
       "<div>\n",
       "<style scoped>\n",
       "    .dataframe tbody tr th:only-of-type {\n",
       "        vertical-align: middle;\n",
       "    }\n",
       "\n",
       "    .dataframe tbody tr th {\n",
       "        vertical-align: top;\n",
       "    }\n",
       "\n",
       "    .dataframe thead th {\n",
       "        text-align: right;\n",
       "    }\n",
       "</style>\n",
       "<table border=\"1\" class=\"dataframe\">\n",
       "  <thead>\n",
       "    <tr style=\"text-align: right;\">\n",
       "      <th></th>\n",
       "      <th>date</th>\n",
       "      <th>orders</th>\n",
       "      <th>num</th>\n",
       "      <th>forecast</th>\n",
       "      <th>BIAS, %</th>\n",
       "      <th>FA, %</th>\n",
       "    </tr>\n",
       "  </thead>\n",
       "  <tbody>\n",
       "    <tr>\n",
       "      <td>0</td>\n",
       "      <td>2020-01-05</td>\n",
       "      <td>650.000000</td>\n",
       "      <td>1</td>\n",
       "      <td>504.598398</td>\n",
       "      <td>-28.8</td>\n",
       "      <td>77.6</td>\n",
       "    </tr>\n",
       "    <tr>\n",
       "      <td>1</td>\n",
       "      <td>2020-01-12</td>\n",
       "      <td>837.000000</td>\n",
       "      <td>2</td>\n",
       "      <td>753.194126</td>\n",
       "      <td>-11.1</td>\n",
       "      <td>90.0</td>\n",
       "    </tr>\n",
       "    <tr>\n",
       "      <td>2</td>\n",
       "      <td>2020-01-19</td>\n",
       "      <td>1020.000000</td>\n",
       "      <td>3</td>\n",
       "      <td>1001.789853</td>\n",
       "      <td>-1.8</td>\n",
       "      <td>98.2</td>\n",
       "    </tr>\n",
       "    <tr>\n",
       "      <td>3</td>\n",
       "      <td>2020-01-26</td>\n",
       "      <td>1176.000000</td>\n",
       "      <td>4</td>\n",
       "      <td>1250.385581</td>\n",
       "      <td>5.9</td>\n",
       "      <td>93.7</td>\n",
       "    </tr>\n",
       "    <tr>\n",
       "      <td>4</td>\n",
       "      <td>2020-02-02</td>\n",
       "      <td>1391.588785</td>\n",
       "      <td>5</td>\n",
       "      <td>1498.981308</td>\n",
       "      <td>7.2</td>\n",
       "      <td>92.3</td>\n",
       "    </tr>\n",
       "  </tbody>\n",
       "</table>\n",
       "</div>"
      ],
      "text/plain": [
       "        date       orders  num     forecast  BIAS, %  FA, %\n",
       "0 2020-01-05   650.000000    1   504.598398    -28.8   77.6\n",
       "1 2020-01-12   837.000000    2   753.194126    -11.1   90.0\n",
       "2 2020-01-19  1020.000000    3  1001.789853     -1.8   98.2\n",
       "3 2020-01-26  1176.000000    4  1250.385581      5.9   93.7\n",
       "4 2020-02-02  1391.588785    5  1498.981308      7.2   92.3"
      ]
     },
     "execution_count": 375,
     "metadata": {},
     "output_type": "execute_result"
    }
   ],
   "source": [
    "orders.head(5)"
   ]
  },
  {
   "cell_type": "code",
   "execution_count": 376,
   "metadata": {},
   "outputs": [
    {
     "data": {
      "text/plain": [
       "<matplotlib.legend.Legend at 0x253b9835fc8>"
      ]
     },
     "execution_count": 376,
     "metadata": {},
     "output_type": "execute_result"
    },
    {
     "data": {
      "image/png": "[encoded data removed]",
      "text/plain": [
       "<Figure size 1368x648 with 1 Axes>"
      ]
     },
     "metadata": {},
     "output_type": "display_data"
    }
   ],
   "source": [
    "plt.plot(orders.query('date < \"2020-04-12\"').date, orders.query('date < \"2020-04-12\"').orders, label='actual orders')\n",
    "plt.plot(orders.query('date > \"2020-04-05\"').date, orders.query('date > \"2020-04-05\"').orders, label='forecast orders after 2020-04-05')\n",
    "plt.plot(orders.query('date < \"2020-04-12\"').date, orders.query('date < \"2020-04-12\"').forecast, label='forecast orders before 2020-04-05')\n",
    "plt.legend()"
   ]
  },
  {
   "cell_type": "markdown",
   "metadata": {},
   "source": [
    "Видим, что прогнозные значения довольно близки к фактическим данным\n",
    "<br>\n",
    "\n",
    "При расчете прогноза с помощью линейной регрессии наш прогноз стремится вверх по тренду\n",
    "<br>\n",
    "однако стоит понимать, что линейная взаимосвязь не всегда может быть линейной. И, возможно, в какой-то момент \n",
    "<br>\n",
    "рост линии тренда будет постепенно потухать (например, рынок насытится товаром).\n",
    "<br>\n",
    "\n",
    "В дальнейшем хотелось бы иметь больше данных для анализа. \n",
    "<br>\n",
    "Желательно несколько лет, чтобы корректно рассчитать сезонность.\n",
    "<br>\n",
    "Имея больше наблюдений, можно воспользоваться библиотеками для прогнозирования временных рядов, \n",
    "<br>\n",
    "например, библиотекой Facebook Prophet, которая учитывает сезонность, тренд, аномальные дни."
   ]
  },
  {
   "cell_type": "code",
   "execution_count": null,
   "metadata": {},
   "outputs": [],
   "source": []
  },
  {
   "cell_type": "code",
   "execution_count": null,
   "metadata": {},
   "outputs": [],
   "source": []
  },
  {
   "cell_type": "markdown",
   "metadata": {},
   "source": [
    "### Задание 3"
   ]
  },
  {
   "cell_type": "markdown",
   "metadata": {},
   "source": [
    "Написание запроса"
   ]
  },
  {
   "cell_type": "markdown",
   "metadata": {},
   "source": [
    "В базе данных вашей компании присутствуют следующие таблицы\n",
    "\n",
    "_city_\n",
    "\n",
    "city_id – id города, где проходит акция\n",
    "<br>\n",
    "client_city_id – id города, где находится покупатель\n",
    "<br>\n",
    "city – город\n",
    "<br>\n",
    "client_city – город, где находится покупатель\n",
    "\n",
    "_client_\n",
    "\n",
    "client_id – id покупателя\n",
    "<br>\n",
    "client_city_id – id города, где находится покупатель\n",
    "<br>\n",
    "birth_date – дата рождения покупателя\n",
    "<br>\n",
    "registration – дата регистрации покупателя\n",
    "<br>\n",
    "\n",
    "_promotion_\n",
    "\n",
    "promotion_id – id акции\n",
    "<br>\n",
    "category_id – id категории\n",
    "<br>\n",
    "promotion_name – акция\n",
    "<br>\n",
    "category_name – категория\n",
    "<br>\n",
    "partner_id – id партнёра\n",
    "<br>\n",
    "partner_name – партнёр\n",
    "<br>\n",
    "\n",
    "_purchase_\n",
    "\n",
    "purchase_id – id покупки\n",
    "<br>\n",
    "partner_id – id партнёра\n",
    "<br>\n",
    "client_id – id покупателя\n",
    "<br>\n",
    "city_id – id города\n",
    "<br>\n",
    "promotion_id – id акции\n",
    "<br>\n",
    "category_id – id категории\n",
    "<br>\n",
    "purchase_date – дата покупки\n",
    "<br>\n",
    "price – цена за единицу товара\n",
    "<br>\n",
    "quantity – число проданных единиц\n",
    "<br>\n",
    "status – статус покупки\n",
    "\n",
    "Вам нужно написать запрос, чтобы получить такую таблицу\n",
    "\n",
    "purchase_date – дата покупки\n",
    "<br>\n",
    "purchase_id – id покупки\n",
    "<br>\n",
    "client_id – id покупателя\n",
    "<br>\n",
    "client_age – возраст покупателя\n",
    "<br>\n",
    "client_registration_age – как долго человек пользуется вашими магазинами\n",
    "<br>\n",
    "client_category – содержит new или old, если это первая или последующая покупка соответственно\n",
    "<br>\n",
    "promotion_name – акция\n",
    "<br>\n",
    "category_name – категория\n",
    "<br>\n",
    "partner_name – партнёр\n",
    "<br>\n",
    "client_city – город, где находится покупатель\n",
    "<br>\n",
    "city – город\n",
    "<br>\n",
    "revenue – сумма выручки\n",
    "<br>\n",
    "quantity – число проданных единиц\n",
    "\n",
    "При этом в таблице должны присутствовать только значения, где в поле status стоит значение 1, и только те, где purchase_date находится в диапазоне от 01.05.2020 до 01.08.2020"
   ]
  },
  {
   "cell_type": "code",
   "execution_count": 377,
   "metadata": {},
   "outputs": [],
   "source": [
    "import pandahouse as ph"
   ]
  },
  {
   "cell_type": "code",
   "execution_count": 378,
   "metadata": {},
   "outputs": [],
   "source": [
    "con_project_variant_2 = {'host': 'https://clickhouse.lab.karpov.courses',\n",
    "                      'database':'project_variant_2',\n",
    "                      'user':'student', \n",
    "                      'password':'dpo_python_2020'}"
   ]
  },
  {
   "cell_type": "code",
   "execution_count": 379,
   "metadata": {},
   "outputs": [],
   "source": [
    "query = \"\"\"\n",
    "SELECT \n",
    "    purchase.purchase_date AS purchase_date, --дата покупки\n",
    "    CAST(purchase.purchase_id AS integer) AS purchase_id, --id покупки\n",
    "    CAST(purchase.client_id AS integer) AS client_id, -- id покупателя\n",
    "    CAST ((toYear(purchase.purchase_date) - toYear(client.birth_date) - CASE\n",
    "        WHEN (\n",
    "                toMonth(purchase.purchase_date) < toMonth(client.birth_date) \n",
    "                or \n",
    "                (\n",
    "                toMonth(purchase.purchase_date) = toMonth(client.birth_date) and toDayOfMonth(purchase.purchase_date) < toDayOfMonth(client.birth_date)\n",
    "                )\n",
    "              ) THEN 1\n",
    "        ELSE 0\n",
    "        END) AS integer) AS client_age, --количество полных лет покупателя на момент покупки\n",
    "    CAST ((toYear(purchase.purchase_date)-toYear(client.registration) - CASE\n",
    "        WHEN (\n",
    "                toMonth(purchase.purchase_date) < toMonth(client.registration) \n",
    "                or \n",
    "                (\n",
    "                toMonth(purchase.purchase_date) = toMonth(client.registration) and toDayOfMonth(purchase.purchase_date) < toDayOfMonth(client.registration)\n",
    "                )\n",
    "              ) THEN 1\n",
    "        ELSE 0\n",
    "        END) AS integer) AS client_registration_age, --как долго человек пользуется вашими магазинами на момент покупки\n",
    "    CASE\n",
    "        WHEN client_min_day_reg_pur.min_day_reg_pur = DATEDIFF('day', client.registration, purchase.purchase_date) THEN 'new'\n",
    "        ELSE 'old'\n",
    "        END AS client_category, --содержит new или old, если это первая или последующая покупка соответственно (во всем дата сете, не только в промежуток от 01.05.2020 до 01.08.2020, то есть если первая покупка была до 01.05.2020, то на всех строках будет old. Это кажется логичным, так как если было бы new, то можно было бы подумать, что именно в этот период клиент вервые что-то заказал, а это неверно)\n",
    "    promotion.promotion_name AS promotion_name, --акция\n",
    "    promotion.category_name AS category_name, --категория\n",
    "    promotion.partner_name AS partner_name, --партнёр\n",
    "    client_city.client_city AS client_city, --город, где находится покупатель\n",
    "    dist_city.city AS city, --город, где проходит акция\n",
    "    CAST(purchase.price * purchase.quantity AS integer) AS revenue, --сумма выручки\n",
    "    CAST(purchase.quantity AS integer) as quantity -- число проданных единиц\n",
    "\n",
    "FROM\n",
    "    project_variant_2.purchase as purchase\n",
    "\n",
    "LEFT JOIN\n",
    "    project_variant_2.client as client\n",
    "ON\n",
    "    purchase.client_id = client.client_id\n",
    "    \n",
    "LEFT JOIN\n",
    "    (\n",
    "        SELECT DISTINCT\n",
    "            client.client_id,\n",
    "            client.registration,\n",
    "            MIN(purchase.purchase_date) AS min_pur_date,\n",
    "            MIN(DATEDIFF('day', client.registration, purchase.purchase_date)) AS min_day_reg_pur\n",
    "        FROM\n",
    "            project_variant_2.client as client\n",
    "        JOIN\n",
    "            project_variant_2.purchase as purchase\n",
    "        ON\n",
    "            client.client_id = purchase.client_id\n",
    "        GROUP BY\n",
    "            client.client_id,\n",
    "            client.registration\n",
    "        ORDER BY\n",
    "            client.client_id,\n",
    "            client.registration\n",
    "    ) AS client_min_day_reg_pur\n",
    "ON\n",
    "    purchase.client_id = client_min_day_reg_pur.client_id\n",
    "    \n",
    "LEFT JOIN\n",
    "    project_variant_2.promotion as promotion\n",
    "ON\n",
    "    purchase.promotion_id = promotion.promotion_id\n",
    "    AND purchase.category_id = promotion.category_id\n",
    "    AND purchase.partner_id = promotion.partner_id\n",
    "\n",
    "LEFT JOIN\n",
    "    (\n",
    "        SELECT DISTINCT\n",
    "            client.client_id,\n",
    "            city.client_city \n",
    "        FROM\n",
    "            project_variant_2.client as client\n",
    "        JOIN\n",
    "            project_variant_2.city as city\n",
    "        ON\n",
    "            client.client_city_id = city.client_city_id\n",
    "        ORDER BY\n",
    "            client.client_id\n",
    "    ) AS client_city\n",
    "ON\n",
    "    purchase.client_id = client_city.client_id\n",
    "    \n",
    "LEFT JOIN\n",
    "    (\n",
    "        SELECT DISTINCT\n",
    "            city.city_id,\n",
    "            city.city \n",
    "        FROM\n",
    "            project_variant_2.city as city\n",
    "        ORDER BY\n",
    "            city.city_id\n",
    "    ) AS dist_city\n",
    "ON\n",
    "    purchase.city_id = dist_city.city_id\n",
    "\n",
    "WHERE\n",
    "    purchase.status = 1\n",
    "    AND purchase.purchase_date >= '2020-05-01'\n",
    "    AND purchase.purchase_date <= '2020-08-01'\n",
    "\n",
    "ORDER BY\n",
    "    purchase.client_id,\n",
    "    purchase.purchase_date\n",
    "\"\"\""
   ]
  },
  {
   "cell_type": "code",
   "execution_count": 380,
   "metadata": {},
   "outputs": [],
   "source": [
    "df = ph.read_clickhouse(query, connection=con_project_variant_2)"
   ]
  },
  {
   "cell_type": "code",
   "execution_count": 381,
   "metadata": {},
   "outputs": [
    {
     "data": {
      "text/html": [
       "<div>\n",
       "<style scoped>\n",
       "    .dataframe tbody tr th:only-of-type {\n",
       "        vertical-align: middle;\n",
       "    }\n",
       "\n",
       "    .dataframe tbody tr th {\n",
       "        vertical-align: top;\n",
       "    }\n",
       "\n",
       "    .dataframe thead th {\n",
       "        text-align: right;\n",
       "    }\n",
       "</style>\n",
       "<table border=\"1\" class=\"dataframe\">\n",
       "  <thead>\n",
       "    <tr style=\"text-align: right;\">\n",
       "      <th></th>\n",
       "      <th>purchase_date</th>\n",
       "      <th>purchase_id</th>\n",
       "      <th>client_id</th>\n",
       "      <th>client_age</th>\n",
       "      <th>client_registration_age</th>\n",
       "      <th>client_category</th>\n",
       "      <th>promotion_name</th>\n",
       "      <th>category_name</th>\n",
       "      <th>partner_name</th>\n",
       "      <th>client_city</th>\n",
       "      <th>city</th>\n",
       "      <th>revenue</th>\n",
       "      <th>quantity</th>\n",
       "    </tr>\n",
       "  </thead>\n",
       "  <tbody>\n",
       "    <tr>\n",
       "      <td>0</td>\n",
       "      <td>2020-07-20</td>\n",
       "      <td>3002</td>\n",
       "      <td>1</td>\n",
       "      <td>24</td>\n",
       "      <td>0</td>\n",
       "      <td>new</td>\n",
       "      <td></td>\n",
       "      <td></td>\n",
       "      <td></td>\n",
       "      <td>Вена</td>\n",
       "      <td>Новгород</td>\n",
       "      <td>660</td>\n",
       "      <td>3</td>\n",
       "    </tr>\n",
       "    <tr>\n",
       "      <td>1</td>\n",
       "      <td>2020-07-24</td>\n",
       "      <td>3626</td>\n",
       "      <td>1</td>\n",
       "      <td>24</td>\n",
       "      <td>0</td>\n",
       "      <td>old</td>\n",
       "      <td></td>\n",
       "      <td></td>\n",
       "      <td></td>\n",
       "      <td>Вена</td>\n",
       "      <td>Ярославль</td>\n",
       "      <td>2280</td>\n",
       "      <td>8</td>\n",
       "    </tr>\n",
       "    <tr>\n",
       "      <td>2</td>\n",
       "      <td>2020-07-26</td>\n",
       "      <td>918</td>\n",
       "      <td>1</td>\n",
       "      <td>24</td>\n",
       "      <td>0</td>\n",
       "      <td>old</td>\n",
       "      <td></td>\n",
       "      <td></td>\n",
       "      <td></td>\n",
       "      <td>Вена</td>\n",
       "      <td>Минск</td>\n",
       "      <td>615</td>\n",
       "      <td>3</td>\n",
       "    </tr>\n",
       "    <tr>\n",
       "      <td>3</td>\n",
       "      <td>2020-05-15</td>\n",
       "      <td>7362</td>\n",
       "      <td>2</td>\n",
       "      <td>21</td>\n",
       "      <td>1</td>\n",
       "      <td>old</td>\n",
       "      <td></td>\n",
       "      <td></td>\n",
       "      <td></td>\n",
       "      <td>Щучинщина</td>\n",
       "      <td>Вена</td>\n",
       "      <td>180</td>\n",
       "      <td>9</td>\n",
       "    </tr>\n",
       "    <tr>\n",
       "      <td>4</td>\n",
       "      <td>2020-05-21</td>\n",
       "      <td>6702</td>\n",
       "      <td>2</td>\n",
       "      <td>21</td>\n",
       "      <td>1</td>\n",
       "      <td>old</td>\n",
       "      <td></td>\n",
       "      <td></td>\n",
       "      <td></td>\n",
       "      <td>Щучинщина</td>\n",
       "      <td>Минск</td>\n",
       "      <td>465</td>\n",
       "      <td>3</td>\n",
       "    </tr>\n",
       "    <tr>\n",
       "      <td>5</td>\n",
       "      <td>2020-05-29</td>\n",
       "      <td>7349</td>\n",
       "      <td>2</td>\n",
       "      <td>21</td>\n",
       "      <td>1</td>\n",
       "      <td>old</td>\n",
       "      <td></td>\n",
       "      <td></td>\n",
       "      <td></td>\n",
       "      <td>Щучинщина</td>\n",
       "      <td>Новгород</td>\n",
       "      <td>2080</td>\n",
       "      <td>8</td>\n",
       "    </tr>\n",
       "    <tr>\n",
       "      <td>6</td>\n",
       "      <td>2020-06-08</td>\n",
       "      <td>6111</td>\n",
       "      <td>2</td>\n",
       "      <td>21</td>\n",
       "      <td>1</td>\n",
       "      <td>old</td>\n",
       "      <td>campaign_3</td>\n",
       "      <td>Овощи</td>\n",
       "      <td>Всем партнёрам партнёр</td>\n",
       "      <td>Щучинщина</td>\n",
       "      <td>Минск</td>\n",
       "      <td>360</td>\n",
       "      <td>1</td>\n",
       "    </tr>\n",
       "    <tr>\n",
       "      <td>7</td>\n",
       "      <td>2020-07-16</td>\n",
       "      <td>8155</td>\n",
       "      <td>2</td>\n",
       "      <td>21</td>\n",
       "      <td>1</td>\n",
       "      <td>old</td>\n",
       "      <td></td>\n",
       "      <td></td>\n",
       "      <td></td>\n",
       "      <td>Щучинщина</td>\n",
       "      <td>Минск</td>\n",
       "      <td>2655</td>\n",
       "      <td>9</td>\n",
       "    </tr>\n",
       "    <tr>\n",
       "      <td>8</td>\n",
       "      <td>2020-05-24</td>\n",
       "      <td>1351</td>\n",
       "      <td>3</td>\n",
       "      <td>25</td>\n",
       "      <td>0</td>\n",
       "      <td>old</td>\n",
       "      <td></td>\n",
       "      <td></td>\n",
       "      <td></td>\n",
       "      <td>Ярославль</td>\n",
       "      <td>Новгород</td>\n",
       "      <td>950</td>\n",
       "      <td>2</td>\n",
       "    </tr>\n",
       "    <tr>\n",
       "      <td>9</td>\n",
       "      <td>2020-05-27</td>\n",
       "      <td>793</td>\n",
       "      <td>4</td>\n",
       "      <td>24</td>\n",
       "      <td>0</td>\n",
       "      <td>old</td>\n",
       "      <td></td>\n",
       "      <td></td>\n",
       "      <td></td>\n",
       "      <td>Казань</td>\n",
       "      <td>Киев</td>\n",
       "      <td>2520</td>\n",
       "      <td>8</td>\n",
       "    </tr>\n",
       "  </tbody>\n",
       "</table>\n",
       "</div>"
      ],
      "text/plain": [
       "  purchase_date  purchase_id  client_id  client_age  client_registration_age  \\\n",
       "0    2020-07-20         3002          1          24                        0   \n",
       "1    2020-07-24         3626          1          24                        0   \n",
       "2    2020-07-26          918          1          24                        0   \n",
       "3    2020-05-15         7362          2          21                        1   \n",
       "4    2020-05-21         6702          2          21                        1   \n",
       "5    2020-05-29         7349          2          21                        1   \n",
       "6    2020-06-08         6111          2          21                        1   \n",
       "7    2020-07-16         8155          2          21                        1   \n",
       "8    2020-05-24         1351          3          25                        0   \n",
       "9    2020-05-27          793          4          24                        0   \n",
       "\n",
       "  client_category promotion_name category_name            partner_name  \\\n",
       "0             new                                                        \n",
       "1             old                                                        \n",
       "2             old                                                        \n",
       "3             old                                                        \n",
       "4             old                                                        \n",
       "5             old                                                        \n",
       "6             old     campaign_3         Овощи  Всем партнёрам партнёр   \n",
       "7             old                                                        \n",
       "8             old                                                        \n",
       "9             old                                                        \n",
       "\n",
       "  client_city       city  revenue  quantity  \n",
       "0        Вена   Новгород      660         3  \n",
       "1        Вена  Ярославль     2280         8  \n",
       "2        Вена      Минск      615         3  \n",
       "3   Щучинщина       Вена      180         9  \n",
       "4   Щучинщина      Минск      465         3  \n",
       "5   Щучинщина   Новгород     2080         8  \n",
       "6   Щучинщина      Минск      360         1  \n",
       "7   Щучинщина      Минск     2655         9  \n",
       "8   Ярославль   Новгород      950         2  \n",
       "9      Казань       Киев     2520         8  "
      ]
     },
     "execution_count": 381,
     "metadata": {},
     "output_type": "execute_result"
    }
   ],
   "source": [
    "df.head(10)"
   ]
  },
  {
   "cell_type": "code",
   "execution_count": null,
   "metadata": {},
   "outputs": [],
   "source": []
  },
  {
   "cell_type": "code",
   "execution_count": null,
   "metadata": {},
   "outputs": [],
   "source": []
  }
 ],
 "metadata": {
  "kernelspec": {
   "display_name": "Python 3",
   "language": "python",
   "name": "python3"
  },
  "language_info": {
   "codemirror_mode": {
    "name": "ipython",
    "version": 3
   },
   "file_extension": ".py",
   "mimetype": "text/x-python",
   "name": "python",
   "nbconvert_exporter": "python",
   "pygments_lexer": "ipython3",
   "version": "3.7.4"
  }
 },
 "nbformat": 4,
 "nbformat_minor": 4
}
